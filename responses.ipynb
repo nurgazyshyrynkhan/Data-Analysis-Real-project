{
 "cells": [
  {
   "cell_type": "code",
   "execution_count": 462,
   "metadata": {},
   "outputs": [],
   "source": [
    "import pandas as pd\n",
    "import matplotlib.pyplot as plt\n",
    "import numpy as np\n",
    "import datetime"
   ]
  },
  {
   "cell_type": "code",
   "execution_count": 447,
   "metadata": {},
   "outputs": [],
   "source": [
    "# opening the relevant sheet from excel file\n",
    "my_sheet = 'Responses'\n",
    "file_name = 'ОпросQR.xlsx'\n",
    "df = pd.read_excel(file_name, sheet_name = my_sheet)\n",
    "\n",
    "# replacing NaN's with string\n",
    "df = df.fillna('Нет ответа')\n"
   ]
  },
  {
   "cell_type": "code",
   "execution_count": 448,
   "metadata": {},
   "outputs": [],
   "source": [
    "# doing the same with other attributes\n",
    "df['Ваш возраст'] = df['Ваш возраст'].replace(['Нет ответа'], 0)\n",
    "df['Возраст/Не себе'] = df['Возраст/Не себе'].replace(['Нет ответа'], 0)"
   ]
  },
  {
   "cell_type": "code",
   "execution_count": 449,
   "metadata": {},
   "outputs": [
    {
     "data": {
      "text/plain": [
       "array([22, 21, 14, 43, 29, 24, 26, 23, 33, 39, 42, 41, 44, 37, 35, 28, 45,\n",
       "       55, 50, 18, 16, 36, 31, 30, 40, 15, 38, 17, 13, 25, 49, 34, 12, 19,\n",
       "       27, 32, 20, 'мама (36)', 60, 46, 53, 10, 54, 56, 61, 11, 52, 48,\n",
       "       62, 59, 47, '14-16', '15-17', 63, '1к', 68, 51, '36-40', 57, 64,\n",
       "       0.24, 67], dtype=object)"
      ]
     },
     "execution_count": 449,
     "metadata": {},
     "output_type": "execute_result"
    }
   ],
   "source": [
    "# checking all unique values for inappropriate data\n",
    "df['Ваш возраст'].unique()"
   ]
  },
  {
   "cell_type": "code",
   "execution_count": 450,
   "metadata": {},
   "outputs": [
    {
     "data": {
      "text/html": [
       "<div>\n",
       "<style scoped>\n",
       "    .dataframe tbody tr th:only-of-type {\n",
       "        vertical-align: middle;\n",
       "    }\n",
       "\n",
       "    .dataframe tbody tr th {\n",
       "        vertical-align: top;\n",
       "    }\n",
       "\n",
       "    .dataframe thead th {\n",
       "        text-align: right;\n",
       "    }\n",
       "</style>\n",
       "<table border=\"1\" class=\"dataframe\">\n",
       "  <thead>\n",
       "    <tr style=\"text-align: right;\">\n",
       "      <th></th>\n",
       "      <th>Отметка времени</th>\n",
       "      <th>В каоком отделении Вы приобрели товар ?</th>\n",
       "      <th>Ваш пол</th>\n",
       "      <th>Ваш возраст</th>\n",
       "      <th>Для кого</th>\n",
       "      <th>Пол/ Не себе</th>\n",
       "      <th>Возраст/Не себе</th>\n",
       "    </tr>\n",
       "  </thead>\n",
       "  <tbody>\n",
       "    <tr>\n",
       "      <th>82</th>\n",
       "      <td>2022-06-02 13:12:23.860</td>\n",
       "      <td>Online</td>\n",
       "      <td>Женщина</td>\n",
       "      <td>мама (36)</td>\n",
       "      <td>Не себе</td>\n",
       "      <td>Женщина</td>\n",
       "      <td>закзала сыну (15)</td>\n",
       "    </tr>\n",
       "  </tbody>\n",
       "</table>\n",
       "</div>"
      ],
      "text/plain": [
       "           Отметка времени В каоком отделении Вы приобрели товар ? Ваш пол   \\\n",
       "82 2022-06-02 13:12:23.860                                  Online  Женщина   \n",
       "\n",
       "   Ваш возраст Для кого Пол/ Не себе    Возраст/Не себе  \n",
       "82   мама (36)  Не себе      Женщина  закзала сыну (15)  "
      ]
     },
     "execution_count": 450,
     "metadata": {},
     "output_type": "execute_result"
    }
   ],
   "source": [
    "# checking the row with inappropriate data\n",
    "df.loc[df['Ваш возраст']=='мама (36)']"
   ]
  },
  {
   "cell_type": "code",
   "execution_count": 451,
   "metadata": {},
   "outputs": [
    {
     "data": {
      "text/plain": [
       "array([22., 21., 14., 43., 29., 24., 26., 23., 33., 39., 42., 41., 44.,\n",
       "       37., 35., 28., 45., 55., 50., 18., 16., 36., 31., 30., 40., 15.,\n",
       "       38., 17., 13., 25., 49., 34., 12., 19., 27., 32., 20., 60., 46.,\n",
       "       53., 10., 54., 56., 61., 11., 52., 48., 62., 59., 47., 63., 68.,\n",
       "       51., 57., 64., 67.])"
      ]
     },
     "execution_count": 451,
     "metadata": {},
     "output_type": "execute_result"
    }
   ],
   "source": [
    "# replacing all the inappropriate values with correct ones\n",
    "df.replace(to_replace='мама (36)', value=36,inplace=True)\n",
    "df.replace(to_replace='14-16', value=15, inplace=True)\n",
    "df.replace(to_replace='15-17', value=16, inplace=True)\n",
    "df.replace(to_replace='1к', value=15, inplace=True)\n",
    "df.replace(to_replace='36-40', value= 36, inplace=True)\n",
    "df.replace(to_replace=0.24, value=24, inplace=True)\n",
    "df['Ваш возраст'].unique()"
   ]
  },
  {
   "cell_type": "code",
   "execution_count": 452,
   "metadata": {},
   "outputs": [
    {
     "data": {
      "text/plain": [
       "array([20, 0, 15, 32, 10, 13, 11, 16, '13,6,4', 7.6, 28, 15.13, 14, 9.12,\n",
       "       12, 24, 18, 17, 23, '11-17', 8, 50, 27, 9, 25,\n",
       "       '+ дочке взяла, 11лет', 29, 21, 31, 'закзала сыну (15)',\n",
       "       'Подарок 17', 2, 19, 26, '13/16', '15, 13', 30, 'С женой пришёл ',\n",
       "       'Незн', 12.16, '15-176 ж/м', 35, 'женщина - 43, мужчина - 47',\n",
       "       '25/21 муж/жен', 36, 7, 42, 22, 23.13, 18.25, 5, 6, '14-15', 47,\n",
       "       40, 18.35, '8,12,40,45', 4, '23/28', '17/17', '12-14', '3, 7 ', 45,\n",
       "       3, 40.12, 34, '13, 16', 54, 39, 67, 60, 20.22], dtype=object)"
      ]
     },
     "execution_count": 452,
     "metadata": {},
     "output_type": "execute_result"
    }
   ],
   "source": [
    "# doing the exact same test for the other column\n",
    "df['Возраст/Не себе'].unique()"
   ]
  },
  {
   "cell_type": "code",
   "execution_count": 453,
   "metadata": {},
   "outputs": [
    {
     "data": {
      "text/plain": [
       "array([20,  0, 15, 32, 10, 13, 11, 16,  7, 28, 14,  9, 12, 24, 18, 17, 23,\n",
       "        8, 50, 27, 25,  1, 29, 21, 31,  2, 19, 26, 30, 35, 43, 36, 42, 22,\n",
       "        5,  6, 47, 40,  4, 45,  3, 34, 54, 39, 67, 60], dtype=int64)"
      ]
     },
     "execution_count": 453,
     "metadata": {},
     "output_type": "execute_result"
    }
   ],
   "source": [
    "# replacing again\n",
    "df.replace(to_replace='+ дочке взяла, 11лет', value=1,inplace=True)\n",
    "df.replace(to_replace='13,6,4', value=13, inplace=True)\n",
    "df.replace(to_replace=7.6, value=7, inplace=True)\n",
    "df.replace(to_replace=15.13, value=15, inplace=True)\n",
    "df.replace(to_replace=9.12, value=9, inplace=True)\n",
    "df.replace(to_replace='11-17', value=14, inplace=True)\n",
    "df.replace(to_replace='закзала сыну (15)', value=15,inplace=True)\n",
    "df.replace(to_replace='13,6,4', value=13, inplace=True)\n",
    "df.replace(to_replace='Подарок 17', value=17, inplace=True)\n",
    "df.replace(to_replace='13/16', value=14, inplace=True)\n",
    "df.replace(to_replace='15, 13', value=15, inplace=True)\n",
    "df.replace(to_replace='С женой пришёл ', value=0, inplace=True)\n",
    "df.replace(to_replace='Незн', value=0, inplace=True)\n",
    "df.replace(to_replace='15-176 ж/м', value=15,inplace=True)\n",
    "df.replace(to_replace='женщина - 43, мужчина - 47', value=43, inplace=True)\n",
    "df.replace(to_replace='25/21 муж/жен', value=25, inplace=True)\n",
    "df.replace(to_replace='23.13', value=23, inplace=True)\n",
    "df.replace(to_replace='18.25', value=18, inplace=True)\n",
    "df.replace(to_replace='8,12,40,45', value=8, inplace=True)\n",
    "df.replace(to_replace='23/28', value=23, inplace=True)\n",
    "df.replace(to_replace='17/17', value=17,inplace=True)\n",
    "df.replace(to_replace='12-14', value=13, inplace=True)\n",
    "df.replace(to_replace=40.12, value=40, inplace=True)\n",
    "df.replace(to_replace='13, 16', value=14, inplace=True)\n",
    "df.replace(to_replace=20.22, value=20, inplace=True)\n",
    "df.replace(to_replace='14-15',value=14,inplace=True)\n",
    "df.replace(to_replace=12.16,value=14,inplace=True)\n",
    "df.replace(to_replace=23.13,value=23,inplace=True)\n",
    "df.replace(to_replace=18.25,value=18,inplace=True)\n",
    "df.replace(to_replace=18.35,value=18,inplace=True)\n",
    "df.replace('3, 7 ',value=5,inplace=True)\n",
    "df['Возраст/Не себе'].unique()\n",
    "\n",
    "\n"
   ]
  },
  {
   "cell_type": "code",
   "execution_count": 469,
   "metadata": {},
   "outputs": [
    {
     "data": {
      "text/plain": [
       "Дата                                          object\n",
       "Время                                         object\n",
       "Название стора                                object\n",
       "Ваш пол                                       object\n",
       "Возраст                                      float64\n",
       "Кому покупали товар? (Себе/Не себе)           object\n",
       "Пол человека, которому покупали товар         object\n",
       "Возраст человека, которому покупали товар      int64\n",
       "dtype: object"
      ]
     },
     "execution_count": 469,
     "metadata": {},
     "output_type": "execute_result"
    }
   ],
   "source": [
    "df.dtypes"
   ]
  },
  {
   "cell_type": "code",
   "execution_count": 470,
   "metadata": {},
   "outputs": [
    {
     "ename": "ValueError",
     "evalue": "cannot insert Время, already exists",
     "output_type": "error",
     "traceback": [
      "\u001b[1;31m---------------------------------------------------------------------------\u001b[0m",
      "\u001b[1;31mValueError\u001b[0m                                Traceback (most recent call last)",
      "\u001b[1;32m<ipython-input-470-cd43256a864e>\u001b[0m in \u001b[0;36m<module>\u001b[1;34m\u001b[0m\n\u001b[1;32m----> 1\u001b[1;33m \u001b[0mdf\u001b[0m\u001b[1;33m.\u001b[0m\u001b[0minsert\u001b[0m\u001b[1;33m(\u001b[0m\u001b[1;36m1\u001b[0m\u001b[1;33m,\u001b[0m\u001b[1;34m\"Время\"\u001b[0m\u001b[1;33m,\u001b[0m\u001b[1;34m\"\"\u001b[0m\u001b[1;33m)\u001b[0m\u001b[1;33m\u001b[0m\u001b[1;33m\u001b[0m\u001b[0m\n\u001b[0m",
      "\u001b[1;32mc:\\Users\\lampie\\anaconda3\\lib\\site-packages\\pandas\\core\\frame.py\u001b[0m in \u001b[0;36minsert\u001b[1;34m(self, loc, column, value, allow_duplicates)\u001b[0m\n\u001b[0;32m   3622\u001b[0m         \u001b[0mself\u001b[0m\u001b[1;33m.\u001b[0m\u001b[0m_ensure_valid_index\u001b[0m\u001b[1;33m(\u001b[0m\u001b[0mvalue\u001b[0m\u001b[1;33m)\u001b[0m\u001b[1;33m\u001b[0m\u001b[1;33m\u001b[0m\u001b[0m\n\u001b[0;32m   3623\u001b[0m         \u001b[0mvalue\u001b[0m \u001b[1;33m=\u001b[0m \u001b[0mself\u001b[0m\u001b[1;33m.\u001b[0m\u001b[0m_sanitize_column\u001b[0m\u001b[1;33m(\u001b[0m\u001b[0mcolumn\u001b[0m\u001b[1;33m,\u001b[0m \u001b[0mvalue\u001b[0m\u001b[1;33m,\u001b[0m \u001b[0mbroadcast\u001b[0m\u001b[1;33m=\u001b[0m\u001b[1;32mFalse\u001b[0m\u001b[1;33m)\u001b[0m\u001b[1;33m\u001b[0m\u001b[1;33m\u001b[0m\u001b[0m\n\u001b[1;32m-> 3624\u001b[1;33m         \u001b[0mself\u001b[0m\u001b[1;33m.\u001b[0m\u001b[0m_mgr\u001b[0m\u001b[1;33m.\u001b[0m\u001b[0minsert\u001b[0m\u001b[1;33m(\u001b[0m\u001b[0mloc\u001b[0m\u001b[1;33m,\u001b[0m \u001b[0mcolumn\u001b[0m\u001b[1;33m,\u001b[0m \u001b[0mvalue\u001b[0m\u001b[1;33m,\u001b[0m \u001b[0mallow_duplicates\u001b[0m\u001b[1;33m=\u001b[0m\u001b[0mallow_duplicates\u001b[0m\u001b[1;33m)\u001b[0m\u001b[1;33m\u001b[0m\u001b[1;33m\u001b[0m\u001b[0m\n\u001b[0m\u001b[0;32m   3625\u001b[0m \u001b[1;33m\u001b[0m\u001b[0m\n\u001b[0;32m   3626\u001b[0m     \u001b[1;32mdef\u001b[0m \u001b[0massign\u001b[0m\u001b[1;33m(\u001b[0m\u001b[0mself\u001b[0m\u001b[1;33m,\u001b[0m \u001b[1;33m**\u001b[0m\u001b[0mkwargs\u001b[0m\u001b[1;33m)\u001b[0m \u001b[1;33m->\u001b[0m \u001b[1;34m\"DataFrame\"\u001b[0m\u001b[1;33m:\u001b[0m\u001b[1;33m\u001b[0m\u001b[1;33m\u001b[0m\u001b[0m\n",
      "\u001b[1;32mc:\\Users\\lampie\\anaconda3\\lib\\site-packages\\pandas\\core\\internals\\managers.py\u001b[0m in \u001b[0;36minsert\u001b[1;34m(self, loc, item, value, allow_duplicates)\u001b[0m\n\u001b[0;32m   1175\u001b[0m         \u001b[1;32mif\u001b[0m \u001b[1;32mnot\u001b[0m \u001b[0mallow_duplicates\u001b[0m \u001b[1;32mand\u001b[0m \u001b[0mitem\u001b[0m \u001b[1;32min\u001b[0m \u001b[0mself\u001b[0m\u001b[1;33m.\u001b[0m\u001b[0mitems\u001b[0m\u001b[1;33m:\u001b[0m\u001b[1;33m\u001b[0m\u001b[1;33m\u001b[0m\u001b[0m\n\u001b[0;32m   1176\u001b[0m             \u001b[1;31m# Should this be a different kind of error??\u001b[0m\u001b[1;33m\u001b[0m\u001b[1;33m\u001b[0m\u001b[1;33m\u001b[0m\u001b[0m\n\u001b[1;32m-> 1177\u001b[1;33m             \u001b[1;32mraise\u001b[0m \u001b[0mValueError\u001b[0m\u001b[1;33m(\u001b[0m\u001b[1;34mf\"cannot insert {item}, already exists\"\u001b[0m\u001b[1;33m)\u001b[0m\u001b[1;33m\u001b[0m\u001b[1;33m\u001b[0m\u001b[0m\n\u001b[0m\u001b[0;32m   1178\u001b[0m \u001b[1;33m\u001b[0m\u001b[0m\n\u001b[0;32m   1179\u001b[0m         \u001b[1;32mif\u001b[0m \u001b[1;32mnot\u001b[0m \u001b[0misinstance\u001b[0m\u001b[1;33m(\u001b[0m\u001b[0mloc\u001b[0m\u001b[1;33m,\u001b[0m \u001b[0mint\u001b[0m\u001b[1;33m)\u001b[0m\u001b[1;33m:\u001b[0m\u001b[1;33m\u001b[0m\u001b[1;33m\u001b[0m\u001b[0m\n",
      "\u001b[1;31mValueError\u001b[0m: cannot insert Время, already exists"
     ]
    }
   ],
   "source": [
    "# inserting new column\n",
    "df.insert(1,\"Время\",\"\")\n",
    "\n",
    "#error is popped as the column was already inserted"
   ]
  },
  {
   "cell_type": "code",
   "execution_count": 463,
   "metadata": {},
   "outputs": [],
   "source": [
    "# assigning the relevant values\n",
    "df['Время']=pd.to_datetime(df['Дата']).dt.time"
   ]
  },
  {
   "cell_type": "code",
   "execution_count": 466,
   "metadata": {},
   "outputs": [],
   "source": [
    "# changing the initial values\n",
    "df['Дата']=pd.to_datetime(df['Дата']).dt.date"
   ]
  },
  {
   "cell_type": "code",
   "execution_count": 471,
   "metadata": {},
   "outputs": [
    {
     "data": {
      "text/html": [
       "<div>\n",
       "<style scoped>\n",
       "    .dataframe tbody tr th:only-of-type {\n",
       "        vertical-align: middle;\n",
       "    }\n",
       "\n",
       "    .dataframe tbody tr th {\n",
       "        vertical-align: top;\n",
       "    }\n",
       "\n",
       "    .dataframe thead th {\n",
       "        text-align: right;\n",
       "    }\n",
       "</style>\n",
       "<table border=\"1\" class=\"dataframe\">\n",
       "  <thead>\n",
       "    <tr style=\"text-align: right;\">\n",
       "      <th></th>\n",
       "      <th>Дата</th>\n",
       "      <th>Время</th>\n",
       "      <th>Название стора</th>\n",
       "      <th>Ваш пол</th>\n",
       "      <th>Возраст</th>\n",
       "      <th>Кому покупали товар? (Себе/Не себе)</th>\n",
       "      <th>Пол человека, которому покупали товар</th>\n",
       "      <th>Возраст человека, которому покупали товар</th>\n",
       "    </tr>\n",
       "  </thead>\n",
       "  <tbody>\n",
       "    <tr>\n",
       "      <th>0</th>\n",
       "      <td>2022-05-25</td>\n",
       "      <td>17:55:14.113000</td>\n",
       "      <td>ShowRoom, Almaty</td>\n",
       "      <td>Мужчина</td>\n",
       "      <td>22.0</td>\n",
       "      <td>Не себе</td>\n",
       "      <td>Женщина</td>\n",
       "      <td>20</td>\n",
       "    </tr>\n",
       "    <tr>\n",
       "      <th>1</th>\n",
       "      <td>2022-05-25</td>\n",
       "      <td>17:56:51.565000</td>\n",
       "      <td>Showroom, Aqtobe</td>\n",
       "      <td>Мужчина</td>\n",
       "      <td>21.0</td>\n",
       "      <td>Себе</td>\n",
       "      <td>Нет ответа</td>\n",
       "      <td>0</td>\n",
       "    </tr>\n",
       "    <tr>\n",
       "      <th>2</th>\n",
       "      <td>2022-05-26</td>\n",
       "      <td>19:54:59.938000</td>\n",
       "      <td>ShowRoom, Aqtau</td>\n",
       "      <td>Женщина</td>\n",
       "      <td>14.0</td>\n",
       "      <td>Себе</td>\n",
       "      <td>Нет ответа</td>\n",
       "      <td>0</td>\n",
       "    </tr>\n",
       "    <tr>\n",
       "      <th>3</th>\n",
       "      <td>2022-05-26</td>\n",
       "      <td>20:21:34.007000</td>\n",
       "      <td>ShowRoom, Aqtau</td>\n",
       "      <td>Женщина</td>\n",
       "      <td>43.0</td>\n",
       "      <td>Не себе</td>\n",
       "      <td>Мужчина</td>\n",
       "      <td>15</td>\n",
       "    </tr>\n",
       "    <tr>\n",
       "      <th>4</th>\n",
       "      <td>2022-05-26</td>\n",
       "      <td>20:31:37.348000</td>\n",
       "      <td>ShowRoom, Aqtau</td>\n",
       "      <td>Женщина</td>\n",
       "      <td>22.0</td>\n",
       "      <td>Себе</td>\n",
       "      <td>Нет ответа</td>\n",
       "      <td>0</td>\n",
       "    </tr>\n",
       "  </tbody>\n",
       "</table>\n",
       "</div>"
      ],
      "text/plain": [
       "         Дата            Время    Название стора Ваш пол   Возраст  \\\n",
       "0  2022-05-25  17:55:14.113000  ShowRoom, Almaty  Мужчина     22.0   \n",
       "1  2022-05-25  17:56:51.565000  Showroom, Aqtobe  Мужчина     21.0   \n",
       "2  2022-05-26  19:54:59.938000   ShowRoom, Aqtau  Женщина     14.0   \n",
       "3  2022-05-26  20:21:34.007000   ShowRoom, Aqtau  Женщина     43.0   \n",
       "4  2022-05-26  20:31:37.348000   ShowRoom, Aqtau  Женщина     22.0   \n",
       "\n",
       "  Кому покупали товар? (Себе/Не себе) Пол человека, которому покупали товар  \\\n",
       "0                             Не себе                               Женщина   \n",
       "1                                Себе                            Нет ответа   \n",
       "2                                Себе                            Нет ответа   \n",
       "3                             Не себе                               Мужчина   \n",
       "4                                Себе                            Нет ответа   \n",
       "\n",
       "   Возраст человека, которому покупали товар  \n",
       "0                                         20  \n",
       "1                                          0  \n",
       "2                                          0  \n",
       "3                                         15  \n",
       "4                                          0  "
      ]
     },
     "execution_count": 471,
     "metadata": {},
     "output_type": "execute_result"
    }
   ],
   "source": [
    "df.head()"
   ]
  },
  {
   "cell_type": "code",
   "execution_count": 457,
   "metadata": {},
   "outputs": [],
   "source": [
    "# did not like the header\n",
    "# hence, changed some names\n",
    "\n",
    "df = df.rename(columns={'Отметка времени':'Дата',\n",
    "'В каоком отделении Вы приобрели товар ?':'Название стора',\n",
    "'Ваш пол':'Пол покупателя',\n",
    "'Ваш возраст':'Возраст',\n",
    "'Для кого':'Кому покупали товар? (Себе/Не себе)',\n",
    "'Пол/ Не себе':'Пол человека, которому покупали товар',\n",
    "'Возраст/Не себе':'Возраст человека, которому покупали товар'})"
   ]
  },
  {
   "cell_type": "code",
   "execution_count": 459,
   "metadata": {},
   "outputs": [],
   "source": [
    "data = df"
   ]
  },
  {
   "cell_type": "code",
   "execution_count": 460,
   "metadata": {},
   "outputs": [
    {
     "data": {
      "text/html": [
       "<div>\n",
       "<style scoped>\n",
       "    .dataframe tbody tr th:only-of-type {\n",
       "        vertical-align: middle;\n",
       "    }\n",
       "\n",
       "    .dataframe tbody tr th {\n",
       "        vertical-align: top;\n",
       "    }\n",
       "\n",
       "    .dataframe thead th {\n",
       "        text-align: right;\n",
       "    }\n",
       "</style>\n",
       "<table border=\"1\" class=\"dataframe\">\n",
       "  <thead>\n",
       "    <tr style=\"text-align: right;\">\n",
       "      <th></th>\n",
       "      <th>Дата</th>\n",
       "      <th>Время</th>\n",
       "      <th>Название стора</th>\n",
       "      <th>Ваш пол</th>\n",
       "      <th>Возраст</th>\n",
       "      <th>Кому покупали товар? (Себе/Не себе)</th>\n",
       "      <th>Пол человека, которому покупали товар</th>\n",
       "      <th>Возраст человека, которому покупали товар</th>\n",
       "    </tr>\n",
       "  </thead>\n",
       "  <tbody>\n",
       "    <tr>\n",
       "      <th>0</th>\n",
       "      <td>2022-05-25 17:55:14.113</td>\n",
       "      <td></td>\n",
       "      <td>ShowRoom, Almaty</td>\n",
       "      <td>Мужчина</td>\n",
       "      <td>22.0</td>\n",
       "      <td>Не себе</td>\n",
       "      <td>Женщина</td>\n",
       "      <td>20</td>\n",
       "    </tr>\n",
       "    <tr>\n",
       "      <th>1</th>\n",
       "      <td>2022-05-25 17:56:51.565</td>\n",
       "      <td></td>\n",
       "      <td>Showroom, Aqtobe</td>\n",
       "      <td>Мужчина</td>\n",
       "      <td>21.0</td>\n",
       "      <td>Себе</td>\n",
       "      <td>Нет ответа</td>\n",
       "      <td>0</td>\n",
       "    </tr>\n",
       "    <tr>\n",
       "      <th>2</th>\n",
       "      <td>2022-05-26 19:54:59.938</td>\n",
       "      <td></td>\n",
       "      <td>ShowRoom, Aqtau</td>\n",
       "      <td>Женщина</td>\n",
       "      <td>14.0</td>\n",
       "      <td>Себе</td>\n",
       "      <td>Нет ответа</td>\n",
       "      <td>0</td>\n",
       "    </tr>\n",
       "    <tr>\n",
       "      <th>3</th>\n",
       "      <td>2022-05-26 20:21:34.007</td>\n",
       "      <td></td>\n",
       "      <td>ShowRoom, Aqtau</td>\n",
       "      <td>Женщина</td>\n",
       "      <td>43.0</td>\n",
       "      <td>Не себе</td>\n",
       "      <td>Мужчина</td>\n",
       "      <td>15</td>\n",
       "    </tr>\n",
       "    <tr>\n",
       "      <th>4</th>\n",
       "      <td>2022-05-26 20:31:37.348</td>\n",
       "      <td></td>\n",
       "      <td>ShowRoom, Aqtau</td>\n",
       "      <td>Женщина</td>\n",
       "      <td>22.0</td>\n",
       "      <td>Себе</td>\n",
       "      <td>Нет ответа</td>\n",
       "      <td>0</td>\n",
       "    </tr>\n",
       "    <tr>\n",
       "      <th>...</th>\n",
       "      <td>...</td>\n",
       "      <td>...</td>\n",
       "      <td>...</td>\n",
       "      <td>...</td>\n",
       "      <td>...</td>\n",
       "      <td>...</td>\n",
       "      <td>...</td>\n",
       "      <td>...</td>\n",
       "    </tr>\n",
       "    <tr>\n",
       "      <th>1461</th>\n",
       "      <td>2022-06-27 17:19:43.100</td>\n",
       "      <td></td>\n",
       "      <td>ShowRoom, Nur-Sultan</td>\n",
       "      <td>Мужчина</td>\n",
       "      <td>15.0</td>\n",
       "      <td>Себе</td>\n",
       "      <td>Нет ответа</td>\n",
       "      <td>0</td>\n",
       "    </tr>\n",
       "    <tr>\n",
       "      <th>1462</th>\n",
       "      <td>2022-06-27 17:20:05.168</td>\n",
       "      <td></td>\n",
       "      <td>ShowRoom, Nur-Sultan</td>\n",
       "      <td>Женщина</td>\n",
       "      <td>32.0</td>\n",
       "      <td>Не себе</td>\n",
       "      <td>Женщина</td>\n",
       "      <td>12</td>\n",
       "    </tr>\n",
       "    <tr>\n",
       "      <th>1463</th>\n",
       "      <td>2022-06-27 17:34:08.406</td>\n",
       "      <td></td>\n",
       "      <td>ShowRoom, Aqtau</td>\n",
       "      <td>Женщина</td>\n",
       "      <td>32.0</td>\n",
       "      <td>Себе</td>\n",
       "      <td>Нет ответа</td>\n",
       "      <td>0</td>\n",
       "    </tr>\n",
       "    <tr>\n",
       "      <th>1464</th>\n",
       "      <td>2022-06-27 17:37:25.335</td>\n",
       "      <td></td>\n",
       "      <td>ShowRoom, Aqtau</td>\n",
       "      <td>Женщина</td>\n",
       "      <td>15.0</td>\n",
       "      <td>Себе</td>\n",
       "      <td>Нет ответа</td>\n",
       "      <td>0</td>\n",
       "    </tr>\n",
       "    <tr>\n",
       "      <th>1465</th>\n",
       "      <td>2022-06-27 17:50:04.287</td>\n",
       "      <td></td>\n",
       "      <td>Mega Centre, Almaty</td>\n",
       "      <td>Женщина</td>\n",
       "      <td>35.0</td>\n",
       "      <td>Не себе</td>\n",
       "      <td>Мужчина</td>\n",
       "      <td>12</td>\n",
       "    </tr>\n",
       "  </tbody>\n",
       "</table>\n",
       "<p>1466 rows × 8 columns</p>\n",
       "</div>"
      ],
      "text/plain": [
       "                        Дата Время        Название стора Ваш пол   Возраст  \\\n",
       "0    2022-05-25 17:55:14.113            ShowRoom, Almaty  Мужчина     22.0   \n",
       "1    2022-05-25 17:56:51.565            Showroom, Aqtobe  Мужчина     21.0   \n",
       "2    2022-05-26 19:54:59.938             ShowRoom, Aqtau  Женщина     14.0   \n",
       "3    2022-05-26 20:21:34.007             ShowRoom, Aqtau  Женщина     43.0   \n",
       "4    2022-05-26 20:31:37.348             ShowRoom, Aqtau  Женщина     22.0   \n",
       "...                      ...   ...                   ...      ...      ...   \n",
       "1461 2022-06-27 17:19:43.100        ShowRoom, Nur-Sultan  Мужчина     15.0   \n",
       "1462 2022-06-27 17:20:05.168        ShowRoom, Nur-Sultan  Женщина     32.0   \n",
       "1463 2022-06-27 17:34:08.406             ShowRoom, Aqtau  Женщина     32.0   \n",
       "1464 2022-06-27 17:37:25.335             ShowRoom, Aqtau  Женщина     15.0   \n",
       "1465 2022-06-27 17:50:04.287         Mega Centre, Almaty  Женщина     35.0   \n",
       "\n",
       "     Кому покупали товар? (Себе/Не себе)  \\\n",
       "0                                Не себе   \n",
       "1                                   Себе   \n",
       "2                                   Себе   \n",
       "3                                Не себе   \n",
       "4                                   Себе   \n",
       "...                                  ...   \n",
       "1461                                Себе   \n",
       "1462                             Не себе   \n",
       "1463                                Себе   \n",
       "1464                                Себе   \n",
       "1465                             Не себе   \n",
       "\n",
       "     Пол человека, которому покупали товар  \\\n",
       "0                                  Женщина   \n",
       "1                               Нет ответа   \n",
       "2                               Нет ответа   \n",
       "3                                  Мужчина   \n",
       "4                               Нет ответа   \n",
       "...                                    ...   \n",
       "1461                            Нет ответа   \n",
       "1462                               Женщина   \n",
       "1463                            Нет ответа   \n",
       "1464                            Нет ответа   \n",
       "1465                               Мужчина   \n",
       "\n",
       "      Возраст человека, которому покупали товар  \n",
       "0                                            20  \n",
       "1                                             0  \n",
       "2                                             0  \n",
       "3                                            15  \n",
       "4                                             0  \n",
       "...                                         ...  \n",
       "1461                                          0  \n",
       "1462                                         12  \n",
       "1463                                          0  \n",
       "1464                                          0  \n",
       "1465                                         12  \n",
       "\n",
       "[1466 rows x 8 columns]"
      ]
     },
     "execution_count": 460,
     "metadata": {},
     "output_type": "execute_result"
    }
   ],
   "source": [
    "data"
   ]
  },
  {
   "cell_type": "code",
   "execution_count": null,
   "metadata": {},
   "outputs": [
    {
     "data": {
      "text/html": [
       "<div>\n",
       "<style scoped>\n",
       "    .dataframe tbody tr th:only-of-type {\n",
       "        vertical-align: middle;\n",
       "    }\n",
       "\n",
       "    .dataframe tbody tr th {\n",
       "        vertical-align: top;\n",
       "    }\n",
       "\n",
       "    .dataframe thead th {\n",
       "        text-align: right;\n",
       "    }\n",
       "</style>\n",
       "<table border=\"1\" class=\"dataframe\">\n",
       "  <thead>\n",
       "    <tr style=\"text-align: right;\">\n",
       "      <th></th>\n",
       "      <th>Ваш возраст</th>\n",
       "      <th>Возраст/Не себе</th>\n",
       "    </tr>\n",
       "  </thead>\n",
       "  <tbody>\n",
       "    <tr>\n",
       "      <th>count</th>\n",
       "      <td>1466.00000</td>\n",
       "      <td>1466.000000</td>\n",
       "    </tr>\n",
       "    <tr>\n",
       "      <th>mean</th>\n",
       "      <td>25.72442</td>\n",
       "      <td>7.751023</td>\n",
       "    </tr>\n",
       "    <tr>\n",
       "      <th>std</th>\n",
       "      <td>10.49234</td>\n",
       "      <td>10.473243</td>\n",
       "    </tr>\n",
       "    <tr>\n",
       "      <th>min</th>\n",
       "      <td>10.00000</td>\n",
       "      <td>0.000000</td>\n",
       "    </tr>\n",
       "    <tr>\n",
       "      <th>25%</th>\n",
       "      <td>18.00000</td>\n",
       "      <td>0.000000</td>\n",
       "    </tr>\n",
       "    <tr>\n",
       "      <th>50%</th>\n",
       "      <td>23.00000</td>\n",
       "      <td>0.000000</td>\n",
       "    </tr>\n",
       "    <tr>\n",
       "      <th>75%</th>\n",
       "      <td>31.75000</td>\n",
       "      <td>16.000000</td>\n",
       "    </tr>\n",
       "    <tr>\n",
       "      <th>max</th>\n",
       "      <td>68.00000</td>\n",
       "      <td>67.000000</td>\n",
       "    </tr>\n",
       "  </tbody>\n",
       "</table>\n",
       "</div>"
      ],
      "text/plain": [
       "       Ваш возраст  Возраст/Не себе\n",
       "count   1466.00000      1466.000000\n",
       "mean      25.72442         7.751023\n",
       "std       10.49234        10.473243\n",
       "min       10.00000         0.000000\n",
       "25%       18.00000         0.000000\n",
       "50%       23.00000         0.000000\n",
       "75%       31.75000        16.000000\n",
       "max       68.00000        67.000000"
      ]
     },
     "execution_count": 232,
     "metadata": {},
     "output_type": "execute_result"
    }
   ],
   "source": [
    "data.describe()"
   ]
  },
  {
   "cell_type": "code",
   "execution_count": null,
   "metadata": {},
   "outputs": [
    {
     "data": {
      "text/plain": [
       "Женщина    0.621419\n",
       "Мужчина    0.378581\n",
       "Name: Ваш пол , dtype: float64"
      ]
     },
     "execution_count": 233,
     "metadata": {},
     "output_type": "execute_result"
    }
   ],
   "source": [
    "data['Ваш пол '].value_counts('Мужчина')"
   ]
  },
  {
   "cell_type": "code",
   "execution_count": null,
   "metadata": {},
   "outputs": [
    {
     "name": "stdout",
     "output_type": "stream",
     "text": [
      "[10, 11, 12, 13, 14, 15, 16, 17, 18, 19, 20, 21, 22, 23, 24, 25, 26, 27, 28, 29, 30, 31, 32, 33, 34, 35, 36, 37, 38, 39, 40, 41, 42, 43, 44, 45, 46, 47, 48, 49, 50, 51, 52, 53, 54, 55, 56, 57, 59, 60, 61, 62, 63, 64, 67, 68]\n"
     ]
    }
   ],
   "source": [
    "unique_ages=sorted(list(data['Ваш возраст'].unique()))\n",
    "print(unique_ages)"
   ]
  },
  {
   "cell_type": "code",
   "execution_count": null,
   "metadata": {},
   "outputs": [
    {
     "name": "stdout",
     "output_type": "stream",
     "text": [
      "[2, 4, 16, 15, 45, 59, 92, 97, 100, 89, 69, 75, 56, 70, 62, 70, 36, 39, 40, 18, 28, 17, 29, 16, 23, 43, 21, 22, 15, 13, 20, 16, 11, 16, 12, 21, 14, 10, 9, 4, 7, 3, 8, 5, 4, 3, 4, 2, 1, 7, 2, 2, 1, 1, 1, 1]\n"
     ]
    }
   ],
   "source": [
    "list1=[]\n",
    "for i in unique_ages:\n",
    "    list1.append(df['Ваш возраст'].value_counts()[i])\n",
    "print(list1)"
   ]
  },
  {
   "cell_type": "code",
   "execution_count": null,
   "metadata": {},
   "outputs": [
    {
     "data": {
      "image/png": "[encoded data removed]",
      "text/plain": [
       "<Figure size 432x288 with 1 Axes>"
      ]
     },
     "metadata": {
      "needs_background": "light"
     },
     "output_type": "display_data"
    }
   ],
   "source": [
    "# plt.plot(unique_ages,list1)\n",
    "# plt.show()\n",
    "\n",
    "plt.scatter(unique_ages,list1,c='y',edgecolors='m',s=100)\n",
    "plt.title('Age vs. Frequency graph',fontsize=15)\n",
    "\n",
    "plt.xlabel('Age')\n",
    "plt.ylabel('Frequency')\n",
    "\n",
    "plt.show()"
   ]
  },
  {
   "cell_type": "code",
   "execution_count": null,
   "metadata": {},
   "outputs": [
    {
     "data": {
      "image/png": "[encoded data removed]",
      "text/plain": [
       "<Figure size 432x288 with 1 Axes>"
      ]
     },
     "metadata": {
      "needs_background": "light"
     },
     "output_type": "display_data"
    }
   ],
   "source": [
    "x=data['Для кого'].value_counts()[0]\n",
    "y=data['Для кого'].value_counts()[1]\n",
    "arr=np.array([x,y])\n",
    "mylabels=['Себе','Не себе']\n",
    "plt.pie(arr,labels=mylabels,colors=['tab:red','tab:cyan'],frame=True)\n",
    "plt.legend(loc='upper right')\n",
    "plt.show()"
   ]
  },
  {
   "cell_type": "code",
   "execution_count": null,
   "metadata": {},
   "outputs": [
    {
     "data": {
      "text/plain": [
       "[20,\n",
       " 15,\n",
       " 32,\n",
       " 10,\n",
       " 13,\n",
       " 11,\n",
       " 16,\n",
       " 7,\n",
       " 28,\n",
       " 14,\n",
       " 9,\n",
       " 12,\n",
       " 24,\n",
       " 18,\n",
       " 17,\n",
       " 23,\n",
       " 8,\n",
       " 50,\n",
       " 27,\n",
       " 25,\n",
       " 1,\n",
       " 29,\n",
       " 21,\n",
       " 31,\n",
       " 2,\n",
       " 19,\n",
       " 26,\n",
       " 30,\n",
       " 35,\n",
       " 43,\n",
       " 36,\n",
       " 42,\n",
       " 22,\n",
       " 5,\n",
       " 6,\n",
       " 47,\n",
       " 40,\n",
       " 4,\n",
       " 45,\n",
       " 3,\n",
       " 34,\n",
       " 54,\n",
       " 39,\n",
       " 67,\n",
       " 60]"
      ]
     },
     "execution_count": 398,
     "metadata": {},
     "output_type": "execute_result"
    }
   ],
   "source": [
    "unique_ages_2=list(data['Возраст/Не себе'].unique())\n",
    "# no response cells were transformed to 0\n",
    "# therefore, 0 value was excluded from the list\n",
    "unique_ages_2.remove(0) \n",
    "unique_ages_2"
   ]
  },
  {
   "cell_type": "code",
   "execution_count": null,
   "metadata": {},
   "outputs": [
    {
     "name": "stdout",
     "output_type": "stream",
     "text": [
      "[36, 58, 9, 20, 44, 10, 42, 6, 11, 41, 5, 24, 15, 50, 39, 25, 5, 2, 12, 21, 1, 5, 19, 2, 3, 36, 9, 11, 3, 1, 4, 2, 10, 10, 5, 3, 3, 2, 2, 1, 2, 1, 1, 1, 1]\n"
     ]
    }
   ],
   "source": [
    "list2=[]\n",
    "for i in unique_ages_2:\n",
    "    list2.append(df['Возраст/Не себе'].value_counts()[i])\n",
    "print(list2)"
   ]
  },
  {
   "cell_type": "code",
   "execution_count": null,
   "metadata": {},
   "outputs": [
    {
     "data": {
      "image/png": "[encoded data removed]",
      "text/plain": [
       "<Figure size 432x288 with 1 Axes>"
      ]
     },
     "metadata": {
      "needs_background": "light"
     },
     "output_type": "display_data"
    }
   ],
   "source": [
    "plt.scatter(unique_ages,list1,c='violet',edgecolors='m',s=50)\n",
    "plt.title('Age of buyers vs. Frequency graph',fontsize=15)\n",
    "\n",
    "plt.xlabel('Age')\n",
    "plt.ylabel('Frequency')\n",
    "\n",
    "plt.show()"
   ]
  },
  {
   "cell_type": "code",
   "execution_count": 468,
   "metadata": {},
   "outputs": [
    {
     "data": {
      "image/png": "[encoded data removed]",
      "text/plain": [
       "<Figure size 432x288 with 1 Axes>"
      ]
     },
     "metadata": {
      "needs_background": "light"
     },
     "output_type": "display_data"
    }
   ],
   "source": [
    "plt.scatter(unique_ages_2,list2,c='aqua',edgecolors='m',s=50)\n",
    "plt.title('Age of gifted people vs. Frequency graph',fontsize=15)\n",
    "\n",
    "plt.xlabel('Age')\n",
    "plt.ylabel('Frequency')\n",
    "\n",
    "plt.show()"
   ]
  }
 ],
 "metadata": {
  "kernelspec": {
   "display_name": "Python 3",
   "language": "python",
   "name": "python3"
  },
  "language_info": {
   "codemirror_mode": {
    "name": "ipython",
    "version": 3
   },
   "file_extension": ".py",
   "mimetype": "text/x-python",
   "name": "python",
   "nbconvert_exporter": "python",
   "pygments_lexer": "ipython3",
   "version": "3.8.5"
  },
  "vscode": {
   "interpreter": {
    "hash": "f7b9542121f6c3f3a64673bf98dedd590040b5420a5447a45c11e6c4bf28bc9c"
   }
  }
 },
 "nbformat": 4,
 "nbformat_minor": 2
}
